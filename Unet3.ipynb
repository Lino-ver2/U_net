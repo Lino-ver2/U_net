{
  "nbformat": 4,
  "nbformat_minor": 0,
  "metadata": {
    "colab": {
      "name": "Unet3.ipynb",
      "provenance": [],
      "collapsed_sections": [],
      "authorship_tag": "ABX9TyMdzHSqaX/0Xl9s1IjGwmiU",
      "include_colab_link": true
    },
    "kernelspec": {
      "name": "python3",
      "display_name": "Python 3"
    },
    "language_info": {
      "name": "python"
    }
  },
  "cells": [
    {
      "cell_type": "markdown",
      "metadata": {
        "id": "view-in-github",
        "colab_type": "text"
      },
      "source": [
        "<a href=\"https://colab.research.google.com/github/Lino-ver2/product_development/blob/main/Unet3.ipynb\" target=\"_parent\"><img src=\"https://colab.research.google.com/assets/colab-badge.svg\" alt=\"Open In Colab\"/></a>"
      ]
    },
    {
      "cell_type": "markdown",
      "source": [
        "### 背景（前回の実験）\n",
        "Unet1.ipynbの実験ではAEとUnetの比較実験を行った.<br>\n",
        "結果は圧倒的にUnetの方が特徴を捉えた画像を生成していた.\n",
        "\n",
        "Unet2.ipynb2での実験ではUnetにノイズを画像全体に付加したデータと、ノイズを付加していないデータを別々でモデルを作成し比較実験を行った.<br>\n",
        "結果は\n",
        "\n",
        "### 目的\n",
        "特定のノイズ（モザイクなど）を認識して除去をするモデルの作成を目的とする.\n",
        "### 仮説\n"
      ],
      "metadata": {
        "id": "eu1TxPLcf8M9"
      }
    },
    {
      "cell_type": "code",
      "execution_count": null,
      "metadata": {
        "id": "5p01bCytf5Hz"
      },
      "outputs": [],
      "source": [
        ""
      ]
    }
  ]
}